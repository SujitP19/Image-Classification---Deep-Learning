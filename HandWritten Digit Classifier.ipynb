{
 "cells": [
  {
   "cell_type": "code",
   "execution_count": 1,
   "id": "241d2aa5",
   "metadata": {},
   "outputs": [],
   "source": [
    "import os\n",
    "import numpy as np\n",
    "import itertools\n",
    "from tensorflow.keras.datasets import mnist\n",
    "from tensorflow.keras.models import Sequential\n",
    "from tensorflow.keras.layers import Dense, Activation, Dropout\n",
    "from IPython.display import display\n",
    "from tensorflow.keras.preprocessing.image import array_to_img\n",
    "from sklearn.metrics import confusion_matrix, accuracy_score, f1_score, precision_score, recall_score\n",
    "import matplotlib.pyplot as plt"
   ]
  },
  {
   "cell_type": "code",
   "execution_count": 2,
   "id": "8b265894",
   "metadata": {},
   "outputs": [],
   "source": [
    "LABEL_NAMES = ['ZERO','ONE', 'TWO', 'THREE', 'FOUR', 'FIVE', 'SIX', 'SEVEN', 'EIGHT', 'NINE']\n",
    "IMAGE_WIDTH = 28\n",
    "IMAGE_BREADTH = 28\n",
    "NR_CLASSES = 10\n",
    "TOTAL_INPUTS = IMAGE_WIDTH*IMAGE_BREADTH\n",
    "VALIDATION_SIZE = 10000"
   ]
  },
  {
   "cell_type": "code",
   "execution_count": 3,
   "id": "75ddedc5",
   "metadata": {},
   "outputs": [],
   "source": [
    "(X_train_all, y_train_all), (X_test, y_test) = mnist.load_data()"
   ]
  },
  {
   "cell_type": "code",
   "execution_count": 4,
   "id": "1dcf3503",
   "metadata": {},
   "outputs": [
    {
     "data": {
      "text/plain": [
       "(60000, 28, 28)"
      ]
     },
     "execution_count": 4,
     "metadata": {},
     "output_type": "execute_result"
    }
   ],
   "source": [
    "X_train_all.shape"
   ]
  },
  {
   "cell_type": "code",
   "execution_count": 5,
   "id": "dc891323",
   "metadata": {},
   "outputs": [
    {
     "data": {
      "text/plain": [
       "(60000,)"
      ]
     },
     "execution_count": 5,
     "metadata": {},
     "output_type": "execute_result"
    }
   ],
   "source": [
    "y_train_all.shape"
   ]
  },
  {
   "cell_type": "code",
   "execution_count": 6,
   "id": "7c083f42",
   "metadata": {},
   "outputs": [
    {
     "data": {
      "text/plain": [
       "(10000, 28, 28)"
      ]
     },
     "execution_count": 6,
     "metadata": {},
     "output_type": "execute_result"
    }
   ],
   "source": [
    "X_test.shape"
   ]
  },
  {
   "cell_type": "code",
   "execution_count": 7,
   "id": "32e9ff1a",
   "metadata": {},
   "outputs": [],
   "source": [
    "X_test1 = np.expand_dims(X_test, -1)"
   ]
  },
  {
   "cell_type": "code",
   "execution_count": 8,
   "id": "a88cfda0",
   "metadata": {},
   "outputs": [
    {
     "data": {
      "text/plain": [
       "(10000, 28, 28, 1)"
      ]
     },
     "execution_count": 8,
     "metadata": {},
     "output_type": "execute_result"
    }
   ],
   "source": [
    "X_test1.shape"
   ]
  },
  {
   "cell_type": "code",
   "execution_count": 9,
   "id": "a9caa840",
   "metadata": {},
   "outputs": [
    {
     "data": {
      "text/plain": [
       "(60000, 28, 28, 1)"
      ]
     },
     "execution_count": 9,
     "metadata": {},
     "output_type": "execute_result"
    }
   ],
   "source": [
    "X_train_all = np.expand_dims(X_train_all, -1)\n",
    "X_train_all.shape"
   ]
  },
  {
   "cell_type": "code",
   "execution_count": 10,
   "id": "d038315d",
   "metadata": {},
   "outputs": [
    {
     "data": {
      "image/png": "[encoded data removed]",
      "text/plain": [
       "<PIL.Image.Image image mode=L size=28x28>"
      ]
     },
     "execution_count": 10,
     "metadata": {},
     "output_type": "execute_result"
    }
   ],
   "source": [
    "num = array_to_img(X_train_all[10])\n",
    "num"
   ]
  },
  {
   "cell_type": "code",
   "execution_count": 11,
   "id": "2bee0d8f",
   "metadata": {},
   "outputs": [
    {
     "data": {
      "text/plain": [
       "(60000,)"
      ]
     },
     "execution_count": 11,
     "metadata": {},
     "output_type": "execute_result"
    }
   ],
   "source": [
    "y_train_all.shape"
   ]
  },
  {
   "cell_type": "code",
   "execution_count": 12,
   "id": "ef9b917d",
   "metadata": {},
   "outputs": [
    {
     "data": {
      "text/plain": [
       "3"
      ]
     },
     "execution_count": 12,
     "metadata": {},
     "output_type": "execute_result"
    }
   ],
   "source": [
    "y_train_all[10]"
   ]
  },
  {
   "cell_type": "code",
   "execution_count": 13,
   "id": "d62b8a11",
   "metadata": {},
   "outputs": [
    {
     "data": {
      "text/plain": [
       "'THREE'"
      ]
     },
     "execution_count": 13,
     "metadata": {},
     "output_type": "execute_result"
    }
   ],
   "source": [
    "LABEL_NAMES[y_train_all[10]]"
   ]
  },
  {
   "cell_type": "code",
   "execution_count": 14,
   "id": "474ab03b",
   "metadata": {},
   "outputs": [],
   "source": [
    "X_train_all = X_train_all.reshape(X_train_all.shape[0], TOTAL_INPUTS)"
   ]
  },
  {
   "cell_type": "code",
   "execution_count": 15,
   "id": "bf36fd9a",
   "metadata": {},
   "outputs": [
    {
     "data": {
      "text/plain": [
       "(60000, 784)"
      ]
     },
     "execution_count": 15,
     "metadata": {},
     "output_type": "execute_result"
    }
   ],
   "source": [
    "X_train_all.shape"
   ]
  },
  {
   "cell_type": "code",
   "execution_count": 16,
   "id": "76a40338",
   "metadata": {},
   "outputs": [
    {
     "data": {
      "text/plain": [
       "(60000,)"
      ]
     },
     "execution_count": 16,
     "metadata": {},
     "output_type": "execute_result"
    }
   ],
   "source": [
    "y_train_all.shape"
   ]
  },
  {
   "cell_type": "code",
   "execution_count": 17,
   "id": "b53b599c",
   "metadata": {},
   "outputs": [],
   "source": [
    "y_train_all = y_train_all.reshape(y_train_all.shape[0],1)"
   ]
  },
  {
   "cell_type": "code",
   "execution_count": 18,
   "id": "89ba68fe",
   "metadata": {},
   "outputs": [
    {
     "data": {
      "text/plain": [
       "(60000, 1)"
      ]
     },
     "execution_count": 18,
     "metadata": {},
     "output_type": "execute_result"
    }
   ],
   "source": [
    "y_train_all.shape"
   ]
  },
  {
   "cell_type": "code",
   "execution_count": 19,
   "id": "91ecdeea",
   "metadata": {},
   "outputs": [],
   "source": [
    "X_train_all, X_test = X_train_all/255, X_test/255"
   ]
  },
  {
   "cell_type": "code",
   "execution_count": 20,
   "id": "de4c6c3c",
   "metadata": {},
   "outputs": [
    {
     "data": {
      "text/plain": [
       "(60000, 784)"
      ]
     },
     "execution_count": 20,
     "metadata": {},
     "output_type": "execute_result"
    }
   ],
   "source": [
    "X_train_all.shape"
   ]
  },
  {
   "cell_type": "code",
   "execution_count": 21,
   "id": "ee43c54d",
   "metadata": {},
   "outputs": [
    {
     "data": {
      "text/plain": [
       "(60000, 1)"
      ]
     },
     "execution_count": 21,
     "metadata": {},
     "output_type": "execute_result"
    }
   ],
   "source": [
    "y_train_all.shape"
   ]
  },
  {
   "cell_type": "code",
   "execution_count": 22,
   "id": "49b417ef",
   "metadata": {},
   "outputs": [],
   "source": [
    "X_val= X_train_all[:VALIDATION_SIZE]\n",
    "y_val = y_train_all[:VALIDATION_SIZE]"
   ]
  },
  {
   "cell_type": "code",
   "execution_count": 23,
   "id": "aa73910b",
   "metadata": {},
   "outputs": [
    {
     "data": {
      "text/plain": [
       "(10000, 784)"
      ]
     },
     "execution_count": 23,
     "metadata": {},
     "output_type": "execute_result"
    }
   ],
   "source": [
    "X_val.shape"
   ]
  },
  {
   "cell_type": "code",
   "execution_count": 24,
   "id": "51aa30c1",
   "metadata": {},
   "outputs": [
    {
     "data": {
      "text/plain": [
       "(10000, 1)"
      ]
     },
     "execution_count": 24,
     "metadata": {},
     "output_type": "execute_result"
    }
   ],
   "source": [
    "y_val.shape"
   ]
  },
  {
   "cell_type": "code",
   "execution_count": 25,
   "id": "f321a8f8",
   "metadata": {},
   "outputs": [],
   "source": [
    "X_train = X_train_all[VALIDATION_SIZE:]\n",
    "y_train = y_train_all[VALIDATION_SIZE:]"
   ]
  },
  {
   "cell_type": "code",
   "execution_count": 26,
   "id": "96d5b2c1",
   "metadata": {},
   "outputs": [
    {
     "data": {
      "text/plain": [
       "(50000, 784)"
      ]
     },
     "execution_count": 26,
     "metadata": {},
     "output_type": "execute_result"
    }
   ],
   "source": [
    "X_train.shape"
   ]
  },
  {
   "cell_type": "code",
   "execution_count": 27,
   "id": "caae3389",
   "metadata": {},
   "outputs": [
    {
     "data": {
      "text/plain": [
       "(50000, 1)"
      ]
     },
     "execution_count": 27,
     "metadata": {},
     "output_type": "execute_result"
    }
   ],
   "source": [
    "y_train.shape"
   ]
  },
  {
   "cell_type": "code",
   "execution_count": 28,
   "id": "822f7c6d",
   "metadata": {},
   "outputs": [
    {
     "data": {
      "text/plain": [
       "(10000, 28, 28)"
      ]
     },
     "execution_count": 28,
     "metadata": {},
     "output_type": "execute_result"
    }
   ],
   "source": [
    "X_test.shape"
   ]
  },
  {
   "cell_type": "code",
   "execution_count": 29,
   "id": "2783c48c",
   "metadata": {},
   "outputs": [
    {
     "data": {
      "text/plain": [
       "(10000, 784)"
      ]
     },
     "execution_count": 29,
     "metadata": {},
     "output_type": "execute_result"
    }
   ],
   "source": [
    "X_test = X_test.reshape(X_test.shape[0], TOTAL_INPUTS)\n",
    "X_test.shape"
   ]
  },
  {
   "cell_type": "code",
   "execution_count": 30,
   "id": "573ea59e",
   "metadata": {},
   "outputs": [
    {
     "data": {
      "text/plain": [
       "(10000,)"
      ]
     },
     "execution_count": 30,
     "metadata": {},
     "output_type": "execute_result"
    }
   ],
   "source": [
    "y_test.shape"
   ]
  },
  {
   "cell_type": "code",
   "execution_count": 31,
   "id": "374d53f4",
   "metadata": {},
   "outputs": [
    {
     "data": {
      "text/plain": [
       "(10000, 1)"
      ]
     },
     "execution_count": 31,
     "metadata": {},
     "output_type": "execute_result"
    }
   ],
   "source": [
    "y_test = y_test.reshape(y_test.shape[0], 1)\n",
    "y_test.shape"
   ]
  },
  {
   "cell_type": "code",
   "execution_count": 32,
   "id": "dd082e5b",
   "metadata": {},
   "outputs": [],
   "source": [
    "model_1 = Sequential()"
   ]
  },
  {
   "cell_type": "code",
   "execution_count": 33,
   "id": "c4567253",
   "metadata": {},
   "outputs": [],
   "source": [
    "model_1.add(Dense(units = 256, input_dim = TOTAL_INPUTS, activation = 'relu', name = 'hidden_1'))\n",
    "model_1.add(Dense(units = 128, activation = 'relu', name = 'hidden_2'))\n",
    "model_1.add(Dense(units = 32, activation = 'relu', name = 'hidden_3'))\n",
    "model_1.add(Dense(units = 10, activation = 'softmax', name = 'outputs'))"
   ]
  },
  {
   "cell_type": "code",
   "execution_count": 34,
   "id": "0de6a995",
   "metadata": {},
   "outputs": [],
   "source": [
    "model_1.compile(optimizer = 'adam', loss = 'sparse_categorical_crossentropy', metrics = ['accuracy'])"
   ]
  },
  {
   "cell_type": "code",
   "execution_count": 35,
   "id": "88066259",
   "metadata": {},
   "outputs": [
    {
     "name": "stdout",
     "output_type": "stream",
     "text": [
      "Model: \"sequential\"\n",
      "_________________________________________________________________\n",
      " Layer (type)                Output Shape              Param #   \n",
      "=================================================================\n",
      " hidden_1 (Dense)            (None, 256)               200960    \n",
      "                                                                 \n",
      " hidden_2 (Dense)            (None, 128)               32896     \n",
      "                                                                 \n",
      " hidden_3 (Dense)            (None, 32)                4128      \n",
      "                                                                 \n",
      " outputs (Dense)             (None, 10)                330       \n",
      "                                                                 \n",
      "=================================================================\n",
      "Total params: 238,314\n",
      "Trainable params: 238,314\n",
      "Non-trainable params: 0\n",
      "_________________________________________________________________\n"
     ]
    }
   ],
   "source": [
    "model_1.summary()"
   ]
  },
  {
   "cell_type": "code",
   "execution_count": 36,
   "id": "81fe9545",
   "metadata": {},
   "outputs": [
    {
     "name": "stdout",
     "output_type": "stream",
     "text": [
      "Epoch 1/100\n",
      "50/50 [==============================] - 6s 31ms/step - loss: 0.8297 - accuracy: 0.7718 - val_loss: 0.2843 - val_accuracy: 0.9192\n",
      "Epoch 2/100\n",
      "50/50 [==============================] - 1s 19ms/step - loss: 0.2352 - accuracy: 0.9324 - val_loss: 0.1998 - val_accuracy: 0.9432\n",
      "Epoch 3/100\n",
      "50/50 [==============================] - 1s 19ms/step - loss: 0.1716 - accuracy: 0.9504 - val_loss: 0.1710 - val_accuracy: 0.9505\n",
      "Epoch 4/100\n",
      "50/50 [==============================] - 1s 20ms/step - loss: 0.1368 - accuracy: 0.9612 - val_loss: 0.1356 - val_accuracy: 0.9598\n",
      "Epoch 5/100\n",
      "50/50 [==============================] - 1s 19ms/step - loss: 0.1130 - accuracy: 0.9674 - val_loss: 0.1232 - val_accuracy: 0.9651\n",
      "Epoch 6/100\n",
      "50/50 [==============================] - 1s 19ms/step - loss: 0.0928 - accuracy: 0.9736 - val_loss: 0.1128 - val_accuracy: 0.9667\n",
      "Epoch 7/100\n",
      "50/50 [==============================] - 1s 19ms/step - loss: 0.0798 - accuracy: 0.9771 - val_loss: 0.1075 - val_accuracy: 0.9678\n",
      "Epoch 8/100\n",
      "50/50 [==============================] - 1s 19ms/step - loss: 0.0671 - accuracy: 0.9805 - val_loss: 0.0946 - val_accuracy: 0.9723\n",
      "Epoch 9/100\n",
      "50/50 [==============================] - 1s 19ms/step - loss: 0.0582 - accuracy: 0.9831 - val_loss: 0.0960 - val_accuracy: 0.9701\n",
      "Epoch 10/100\n",
      "50/50 [==============================] - 1s 19ms/step - loss: 0.0499 - accuracy: 0.9855 - val_loss: 0.0873 - val_accuracy: 0.9735\n",
      "Epoch 11/100\n",
      "50/50 [==============================] - 1s 20ms/step - loss: 0.0420 - accuracy: 0.9879 - val_loss: 0.0863 - val_accuracy: 0.9754\n",
      "Epoch 12/100\n",
      "50/50 [==============================] - 1s 19ms/step - loss: 0.0357 - accuracy: 0.9902 - val_loss: 0.0852 - val_accuracy: 0.9753\n",
      "Epoch 13/100\n",
      "50/50 [==============================] - 3s 57ms/step - loss: 0.0293 - accuracy: 0.9922 - val_loss: 0.0883 - val_accuracy: 0.9739\n",
      "Epoch 14/100\n",
      "50/50 [==============================] - 4s 84ms/step - loss: 0.0275 - accuracy: 0.9925 - val_loss: 0.0864 - val_accuracy: 0.9747\n",
      "Epoch 15/100\n",
      "50/50 [==============================] - 3s 65ms/step - loss: 0.0235 - accuracy: 0.9939 - val_loss: 0.0871 - val_accuracy: 0.9743\n",
      "Epoch 16/100\n",
      "50/50 [==============================] - 3s 65ms/step - loss: 0.0192 - accuracy: 0.9957 - val_loss: 0.0803 - val_accuracy: 0.9774\n",
      "Epoch 17/100\n",
      "50/50 [==============================] - 3s 58ms/step - loss: 0.0158 - accuracy: 0.9965 - val_loss: 0.0815 - val_accuracy: 0.9768\n",
      "Epoch 18/100\n",
      "50/50 [==============================] - 2s 42ms/step - loss: 0.0138 - accuracy: 0.9972 - val_loss: 0.0866 - val_accuracy: 0.9752\n",
      "Epoch 19/100\n",
      "50/50 [==============================] - 2s 38ms/step - loss: 0.0107 - accuracy: 0.9983 - val_loss: 0.0805 - val_accuracy: 0.9785\n",
      "Epoch 20/100\n",
      "50/50 [==============================] - 2s 36ms/step - loss: 0.0093 - accuracy: 0.9985 - val_loss: 0.0856 - val_accuracy: 0.9773\n",
      "Epoch 21/100\n",
      "50/50 [==============================] - 2s 31ms/step - loss: 0.0097 - accuracy: 0.9983 - val_loss: 0.0815 - val_accuracy: 0.9782\n",
      "Epoch 22/100\n",
      "50/50 [==============================] - 2s 30ms/step - loss: 0.0066 - accuracy: 0.9993 - val_loss: 0.0842 - val_accuracy: 0.9785\n",
      "Epoch 23/100\n",
      "50/50 [==============================] - 1s 29ms/step - loss: 0.0058 - accuracy: 0.9994 - val_loss: 0.0874 - val_accuracy: 0.9774\n",
      "Epoch 24/100\n",
      "50/50 [==============================] - 1s 27ms/step - loss: 0.0047 - accuracy: 0.9997 - val_loss: 0.0856 - val_accuracy: 0.9791\n",
      "Epoch 25/100\n",
      "50/50 [==============================] - 1s 27ms/step - loss: 0.0045 - accuracy: 0.9995 - val_loss: 0.0874 - val_accuracy: 0.9792\n",
      "Epoch 26/100\n",
      "50/50 [==============================] - 1s 26ms/step - loss: 0.0037 - accuracy: 0.9998 - val_loss: 0.0868 - val_accuracy: 0.9795\n",
      "Epoch 27/100\n",
      "50/50 [==============================] - 1s 23ms/step - loss: 0.0031 - accuracy: 0.9997 - val_loss: 0.0927 - val_accuracy: 0.9773\n",
      "Epoch 28/100\n",
      "50/50 [==============================] - 1s 23ms/step - loss: 0.0025 - accuracy: 0.9999 - val_loss: 0.0914 - val_accuracy: 0.9786\n",
      "Epoch 29/100\n",
      "50/50 [==============================] - 1s 22ms/step - loss: 0.0019 - accuracy: 1.0000 - val_loss: 0.0902 - val_accuracy: 0.9793\n",
      "Epoch 30/100\n",
      "50/50 [==============================] - 1s 20ms/step - loss: 0.0017 - accuracy: 1.0000 - val_loss: 0.0933 - val_accuracy: 0.9784\n",
      "Epoch 31/100\n",
      "50/50 [==============================] - 1s 19ms/step - loss: 0.0016 - accuracy: 1.0000 - val_loss: 0.0919 - val_accuracy: 0.9795\n",
      "Epoch 32/100\n",
      "50/50 [==============================] - 1s 19ms/step - loss: 0.0013 - accuracy: 1.0000 - val_loss: 0.0946 - val_accuracy: 0.9786\n",
      "Epoch 33/100\n",
      "50/50 [==============================] - 1s 19ms/step - loss: 0.0012 - accuracy: 1.0000 - val_loss: 0.0956 - val_accuracy: 0.9792\n",
      "Epoch 34/100\n",
      "50/50 [==============================] - 1s 19ms/step - loss: 0.0011 - accuracy: 1.0000 - val_loss: 0.0949 - val_accuracy: 0.9790\n",
      "Epoch 35/100\n",
      "50/50 [==============================] - 1s 20ms/step - loss: 9.8305e-04 - accuracy: 1.0000 - val_loss: 0.0951 - val_accuracy: 0.9790\n",
      "Epoch 36/100\n",
      "50/50 [==============================] - 1s 20ms/step - loss: 8.8816e-04 - accuracy: 1.0000 - val_loss: 0.0971 - val_accuracy: 0.9789\n",
      "Epoch 37/100\n",
      "50/50 [==============================] - 1s 19ms/step - loss: 8.0984e-04 - accuracy: 1.0000 - val_loss: 0.0975 - val_accuracy: 0.9788\n",
      "Epoch 38/100\n",
      "50/50 [==============================] - 1s 19ms/step - loss: 7.3927e-04 - accuracy: 1.0000 - val_loss: 0.0983 - val_accuracy: 0.9788\n",
      "Epoch 39/100\n",
      "50/50 [==============================] - 1s 20ms/step - loss: 6.9688e-04 - accuracy: 1.0000 - val_loss: 0.0998 - val_accuracy: 0.9791\n",
      "Epoch 40/100\n",
      "50/50 [==============================] - 1s 20ms/step - loss: 6.6212e-04 - accuracy: 1.0000 - val_loss: 0.1009 - val_accuracy: 0.9789\n",
      "Epoch 41/100\n",
      "50/50 [==============================] - 1s 19ms/step - loss: 5.9282e-04 - accuracy: 1.0000 - val_loss: 0.1005 - val_accuracy: 0.9790\n",
      "Epoch 42/100\n",
      "50/50 [==============================] - 1s 19ms/step - loss: 5.4869e-04 - accuracy: 1.0000 - val_loss: 0.1023 - val_accuracy: 0.9788\n",
      "Epoch 43/100\n",
      "50/50 [==============================] - 1s 20ms/step - loss: 5.2013e-04 - accuracy: 1.0000 - val_loss: 0.1021 - val_accuracy: 0.9791\n",
      "Epoch 44/100\n",
      "50/50 [==============================] - 1s 19ms/step - loss: 4.9222e-04 - accuracy: 1.0000 - val_loss: 0.1025 - val_accuracy: 0.9791\n",
      "Epoch 45/100\n",
      "50/50 [==============================] - 1s 20ms/step - loss: 4.4582e-04 - accuracy: 1.0000 - val_loss: 0.1048 - val_accuracy: 0.9788\n",
      "Epoch 46/100\n",
      "50/50 [==============================] - 1s 20ms/step - loss: 4.1479e-04 - accuracy: 1.0000 - val_loss: 0.1044 - val_accuracy: 0.9794\n",
      "Epoch 47/100\n",
      "50/50 [==============================] - 1s 20ms/step - loss: 3.8841e-04 - accuracy: 1.0000 - val_loss: 0.1056 - val_accuracy: 0.9787\n",
      "Epoch 48/100\n",
      "50/50 [==============================] - 1s 19ms/step - loss: 3.6260e-04 - accuracy: 1.0000 - val_loss: 0.1061 - val_accuracy: 0.9789\n",
      "Epoch 49/100\n",
      "50/50 [==============================] - 1s 19ms/step - loss: 3.3809e-04 - accuracy: 1.0000 - val_loss: 0.1066 - val_accuracy: 0.9790\n",
      "Epoch 50/100\n",
      "50/50 [==============================] - 1s 20ms/step - loss: 3.1993e-04 - accuracy: 1.0000 - val_loss: 0.1063 - val_accuracy: 0.9789\n",
      "Epoch 51/100\n",
      "50/50 [==============================] - 1s 20ms/step - loss: 3.0245e-04 - accuracy: 1.0000 - val_loss: 0.1077 - val_accuracy: 0.9787\n",
      "Epoch 52/100\n",
      "50/50 [==============================] - 1s 20ms/step - loss: 2.8525e-04 - accuracy: 1.0000 - val_loss: 0.1085 - val_accuracy: 0.9791\n",
      "Epoch 53/100\n",
      "50/50 [==============================] - 1s 20ms/step - loss: 2.7118e-04 - accuracy: 1.0000 - val_loss: 0.1100 - val_accuracy: 0.9787\n",
      "Epoch 54/100\n",
      "50/50 [==============================] - 1s 20ms/step - loss: 2.5747e-04 - accuracy: 1.0000 - val_loss: 0.1098 - val_accuracy: 0.9792\n",
      "Epoch 55/100\n",
      "50/50 [==============================] - 1s 19ms/step - loss: 2.4133e-04 - accuracy: 1.0000 - val_loss: 0.1109 - val_accuracy: 0.9791\n",
      "Epoch 56/100\n",
      "50/50 [==============================] - 1s 20ms/step - loss: 2.2620e-04 - accuracy: 1.0000 - val_loss: 0.1117 - val_accuracy: 0.9785\n",
      "Epoch 57/100\n",
      "50/50 [==============================] - 1s 20ms/step - loss: 2.1504e-04 - accuracy: 1.0000 - val_loss: 0.1116 - val_accuracy: 0.9795\n"
     ]
    },
    {
     "name": "stdout",
     "output_type": "stream",
     "text": [
      "Epoch 58/100\n",
      "50/50 [==============================] - 1s 18ms/step - loss: 2.0891e-04 - accuracy: 1.0000 - val_loss: 0.1118 - val_accuracy: 0.9790\n",
      "Epoch 59/100\n",
      "50/50 [==============================] - 1s 19ms/step - loss: 1.9630e-04 - accuracy: 1.0000 - val_loss: 0.1118 - val_accuracy: 0.9787\n",
      "Epoch 60/100\n",
      "50/50 [==============================] - 1s 19ms/step - loss: 1.8400e-04 - accuracy: 1.0000 - val_loss: 0.1128 - val_accuracy: 0.9793\n",
      "Epoch 61/100\n",
      "50/50 [==============================] - 1s 19ms/step - loss: 1.7415e-04 - accuracy: 1.0000 - val_loss: 0.1132 - val_accuracy: 0.9789\n",
      "Epoch 62/100\n",
      "50/50 [==============================] - 1s 18ms/step - loss: 1.6621e-04 - accuracy: 1.0000 - val_loss: 0.1138 - val_accuracy: 0.9789\n",
      "Epoch 63/100\n",
      "50/50 [==============================] - 1s 19ms/step - loss: 1.5692e-04 - accuracy: 1.0000 - val_loss: 0.1148 - val_accuracy: 0.9786\n",
      "Epoch 64/100\n",
      "50/50 [==============================] - 1s 20ms/step - loss: 1.4982e-04 - accuracy: 1.0000 - val_loss: 0.1156 - val_accuracy: 0.9787\n",
      "Epoch 65/100\n",
      "50/50 [==============================] - 1s 21ms/step - loss: 1.4419e-04 - accuracy: 1.0000 - val_loss: 0.1168 - val_accuracy: 0.9790\n",
      "Epoch 66/100\n",
      "50/50 [==============================] - 1s 21ms/step - loss: 1.3631e-04 - accuracy: 1.0000 - val_loss: 0.1173 - val_accuracy: 0.9789\n",
      "Epoch 67/100\n",
      "50/50 [==============================] - 1s 21ms/step - loss: 1.3066e-04 - accuracy: 1.0000 - val_loss: 0.1180 - val_accuracy: 0.9787\n",
      "Epoch 68/100\n",
      "50/50 [==============================] - 1s 20ms/step - loss: 1.2363e-04 - accuracy: 1.0000 - val_loss: 0.1180 - val_accuracy: 0.9785\n",
      "Epoch 69/100\n",
      "50/50 [==============================] - 1s 20ms/step - loss: 1.1965e-04 - accuracy: 1.0000 - val_loss: 0.1184 - val_accuracy: 0.9789\n",
      "Epoch 70/100\n",
      "50/50 [==============================] - 1s 20ms/step - loss: 1.1251e-04 - accuracy: 1.0000 - val_loss: 0.1181 - val_accuracy: 0.9785\n",
      "Epoch 71/100\n",
      "50/50 [==============================] - 1s 20ms/step - loss: 1.0723e-04 - accuracy: 1.0000 - val_loss: 0.1180 - val_accuracy: 0.9785\n",
      "Epoch 72/100\n",
      "50/50 [==============================] - 1s 19ms/step - loss: 1.0383e-04 - accuracy: 1.0000 - val_loss: 0.1199 - val_accuracy: 0.9791\n",
      "Epoch 73/100\n",
      "50/50 [==============================] - 1s 19ms/step - loss: 9.7151e-05 - accuracy: 1.0000 - val_loss: 0.1203 - val_accuracy: 0.9791\n",
      "Epoch 74/100\n",
      "50/50 [==============================] - 1s 19ms/step - loss: 9.3752e-05 - accuracy: 1.0000 - val_loss: 0.1209 - val_accuracy: 0.9789\n",
      "Epoch 75/100\n",
      "50/50 [==============================] - 1s 19ms/step - loss: 9.0120e-05 - accuracy: 1.0000 - val_loss: 0.1212 - val_accuracy: 0.9792\n",
      "Epoch 76/100\n",
      "50/50 [==============================] - 1s 20ms/step - loss: 8.6206e-05 - accuracy: 1.0000 - val_loss: 0.1220 - val_accuracy: 0.9789\n",
      "Epoch 77/100\n",
      "50/50 [==============================] - 1s 19ms/step - loss: 8.2009e-05 - accuracy: 1.0000 - val_loss: 0.1231 - val_accuracy: 0.9788\n",
      "Epoch 78/100\n",
      "50/50 [==============================] - 1s 19ms/step - loss: 7.9037e-05 - accuracy: 1.0000 - val_loss: 0.1226 - val_accuracy: 0.9786\n",
      "Epoch 79/100\n",
      "50/50 [==============================] - 1s 19ms/step - loss: 7.5815e-05 - accuracy: 1.0000 - val_loss: 0.1239 - val_accuracy: 0.9790\n",
      "Epoch 80/100\n",
      "50/50 [==============================] - 1s 20ms/step - loss: 7.3283e-05 - accuracy: 1.0000 - val_loss: 0.1247 - val_accuracy: 0.9794\n",
      "Epoch 81/100\n",
      "50/50 [==============================] - 1s 20ms/step - loss: 6.9615e-05 - accuracy: 1.0000 - val_loss: 0.1242 - val_accuracy: 0.9788\n",
      "Epoch 82/100\n",
      "50/50 [==============================] - 1s 19ms/step - loss: 6.7007e-05 - accuracy: 1.0000 - val_loss: 0.1249 - val_accuracy: 0.9790\n",
      "Epoch 83/100\n",
      "50/50 [==============================] - 1s 19ms/step - loss: 6.3839e-05 - accuracy: 1.0000 - val_loss: 0.1250 - val_accuracy: 0.9788\n",
      "Epoch 84/100\n",
      "50/50 [==============================] - 1s 21ms/step - loss: 6.1021e-05 - accuracy: 1.0000 - val_loss: 0.1260 - val_accuracy: 0.9792\n",
      "Epoch 85/100\n",
      "50/50 [==============================] - 1s 19ms/step - loss: 5.9138e-05 - accuracy: 1.0000 - val_loss: 0.1275 - val_accuracy: 0.9785\n",
      "Epoch 86/100\n",
      "50/50 [==============================] - 1s 19ms/step - loss: 5.7381e-05 - accuracy: 1.0000 - val_loss: 0.1262 - val_accuracy: 0.9784\n",
      "Epoch 87/100\n",
      "50/50 [==============================] - 1s 20ms/step - loss: 5.4524e-05 - accuracy: 1.0000 - val_loss: 0.1278 - val_accuracy: 0.9787\n",
      "Epoch 88/100\n",
      "50/50 [==============================] - 1s 19ms/step - loss: 5.1982e-05 - accuracy: 1.0000 - val_loss: 0.1279 - val_accuracy: 0.9786\n",
      "Epoch 89/100\n",
      "50/50 [==============================] - 1s 19ms/step - loss: 5.0032e-05 - accuracy: 1.0000 - val_loss: 0.1280 - val_accuracy: 0.9787\n",
      "Epoch 90/100\n",
      "50/50 [==============================] - 1s 20ms/step - loss: 4.7950e-05 - accuracy: 1.0000 - val_loss: 0.1294 - val_accuracy: 0.9789\n",
      "Epoch 91/100\n",
      "50/50 [==============================] - 1s 19ms/step - loss: 4.6412e-05 - accuracy: 1.0000 - val_loss: 0.1293 - val_accuracy: 0.9788\n",
      "Epoch 92/100\n",
      "50/50 [==============================] - 1s 20ms/step - loss: 4.5017e-05 - accuracy: 1.0000 - val_loss: 0.1291 - val_accuracy: 0.9787\n",
      "Epoch 93/100\n",
      "50/50 [==============================] - 1s 19ms/step - loss: 4.3301e-05 - accuracy: 1.0000 - val_loss: 0.1299 - val_accuracy: 0.9789\n",
      "Epoch 94/100\n",
      "50/50 [==============================] - 1s 20ms/step - loss: 4.1473e-05 - accuracy: 1.0000 - val_loss: 0.1306 - val_accuracy: 0.9788\n",
      "Epoch 95/100\n",
      "50/50 [==============================] - 1s 20ms/step - loss: 3.9665e-05 - accuracy: 1.0000 - val_loss: 0.1310 - val_accuracy: 0.9788\n",
      "Epoch 96/100\n",
      "50/50 [==============================] - 1s 20ms/step - loss: 3.8398e-05 - accuracy: 1.0000 - val_loss: 0.1317 - val_accuracy: 0.9787\n",
      "Epoch 97/100\n",
      "50/50 [==============================] - 1s 19ms/step - loss: 3.6574e-05 - accuracy: 1.0000 - val_loss: 0.1317 - val_accuracy: 0.9788\n",
      "Epoch 98/100\n",
      "50/50 [==============================] - 1s 19ms/step - loss: 3.5603e-05 - accuracy: 1.0000 - val_loss: 0.1322 - val_accuracy: 0.9788\n",
      "Epoch 99/100\n",
      "50/50 [==============================] - 1s 20ms/step - loss: 3.4298e-05 - accuracy: 1.0000 - val_loss: 0.1331 - val_accuracy: 0.9791\n",
      "Epoch 100/100\n",
      "50/50 [==============================] - 1s 19ms/step - loss: 3.2893e-05 - accuracy: 1.0000 - val_loss: 0.1328 - val_accuracy: 0.9789\n",
      "dict_keys(['loss', 'accuracy', 'val_loss', 'val_accuracy'])\n"
     ]
    }
   ],
   "source": [
    "history = model_1.fit(X_train, y_train, batch_size = 1000, epochs = 100, verbose =1, validation_data = (X_val, y_val))\n",
    "print(history.history.keys())"
   ]
  },
  {
   "cell_type": "code",
   "execution_count": 37,
   "id": "7415f118",
   "metadata": {},
   "outputs": [
    {
     "name": "stdout",
     "output_type": "stream",
     "text": [
      "313/313 [==============================] - 1s 3ms/step\n"
     ]
    }
   ],
   "source": [
    "y_pred = np.argmax(model_1.predict(X_test), axis =1)"
   ]
  },
  {
   "cell_type": "code",
   "execution_count": 38,
   "id": "3d9a6f45",
   "metadata": {},
   "outputs": [
    {
     "data": {
      "text/plain": [
       "(10000,)"
      ]
     },
     "execution_count": 38,
     "metadata": {},
     "output_type": "execute_result"
    }
   ],
   "source": [
    "y_pred.shape"
   ]
  },
  {
   "cell_type": "code",
   "execution_count": 39,
   "id": "177ac5bd",
   "metadata": {},
   "outputs": [
    {
     "data": {
      "text/plain": [
       "7"
      ]
     },
     "execution_count": 39,
     "metadata": {},
     "output_type": "execute_result"
    }
   ],
   "source": [
    "y_pred[0]"
   ]
  },
  {
   "cell_type": "code",
   "execution_count": 40,
   "id": "91ceb77e",
   "metadata": {},
   "outputs": [
    {
     "data": {
      "text/plain": [
       "7"
      ]
     },
     "execution_count": 40,
     "metadata": {},
     "output_type": "execute_result"
    }
   ],
   "source": [
    "y_test[0][0]"
   ]
  },
  {
   "cell_type": "code",
   "execution_count": 41,
   "id": "30cea21f",
   "metadata": {},
   "outputs": [],
   "source": [
    "y_pred = y_pred.reshape(y_pred.shape[0],1)"
   ]
  },
  {
   "cell_type": "code",
   "execution_count": 42,
   "id": "971ee2bc",
   "metadata": {},
   "outputs": [
    {
     "data": {
      "text/plain": [
       "(10000, 1)"
      ]
     },
     "execution_count": 42,
     "metadata": {},
     "output_type": "execute_result"
    }
   ],
   "source": [
    "y_pred.shape"
   ]
  },
  {
   "cell_type": "code",
   "execution_count": 43,
   "id": "fa1392e1",
   "metadata": {},
   "outputs": [],
   "source": [
    "cm = confusion_matrix(y_test, y_pred)"
   ]
  },
  {
   "cell_type": "code",
   "execution_count": 44,
   "id": "d099c5bf",
   "metadata": {},
   "outputs": [
    {
     "name": "stdout",
     "output_type": "stream",
     "text": [
      "[[ 969    0    0    0    1    4    1    2    2    1]\n",
      " [   0 1127    2    0    0    0    2    1    3    0]\n",
      " [   3    3 1005    4    2    0    3    5    7    0]\n",
      " [   0    0    3  993    0    5    0    3    3    3]\n",
      " [   1    1    2    1  959    0    6    3    2    7]\n",
      " [   3    0    0   10    1  871    2    1    3    1]\n",
      " [   5    3    2    1    5    4  938    0    0    0]\n",
      " [   0    4    7    1    0    0    0 1007    5    4]\n",
      " [   5    0    3    6    1    3    3    3  943    7]\n",
      " [   2    2    0    5    7    6    0    3    1  983]]\n"
     ]
    }
   ],
   "source": [
    "print(cm)"
   ]
  },
  {
   "cell_type": "code",
   "execution_count": 45,
   "id": "ec75e98e",
   "metadata": {},
   "outputs": [
    {
     "data": {
      "text/plain": [
       "97.95"
      ]
     },
     "execution_count": 45,
     "metadata": {},
     "output_type": "execute_result"
    }
   ],
   "source": [
    "accuracy_score(y_test, y_pred)*100"
   ]
  },
  {
   "cell_type": "code",
   "execution_count": 46,
   "id": "6f2c0a45",
   "metadata": {},
   "outputs": [
    {
     "data": {
      "image/png": "[encoded data removed]",
      "text/plain": [
       "<Figure size 800x400 with 1 Axes>"
      ]
     },
     "metadata": {},
     "output_type": "display_data"
    }
   ],
   "source": [
    "plt.figure(figsize = (8, 4))\n",
    "plt.plot(history.history['loss'])\n",
    "plt.plot(history.history['accuracy'])\n",
    "plt.legend(['loss', 'accuracy'])\n",
    "plt.grid()\n",
    "plt.xlabel('Number of epochs')\n",
    "plt.ylabel('accuracy')\n",
    "plt.show()"
   ]
  },
  {
   "cell_type": "code",
   "execution_count": 47,
   "id": "5fdbda57",
   "metadata": {},
   "outputs": [
    {
     "data": {
      "image/png": "[encoded data removed]",
      "text/plain": [
       "<Figure size 800x400 with 1 Axes>"
      ]
     },
     "metadata": {},
     "output_type": "display_data"
    }
   ],
   "source": [
    "plt.figure(figsize = (8, 4))\n",
    "plt.plot(history.history['val_loss'])\n",
    "plt.plot(history.history['val_accuracy'])\n",
    "plt.legend(['val_loss', 'nal_accuracy'])\n",
    "plt.grid()\n",
    "plt.xlabel('Number of epochs')\n",
    "plt.ylabel('accuracy')\n",
    "plt.show()"
   ]
  },
  {
   "cell_type": "code",
   "execution_count": 48,
   "id": "6053c715",
   "metadata": {},
   "outputs": [
    {
     "data": {
      "text/plain": [
       "array([[ 1,  2,  3,  4,  5],\n",
       "       [ 6,  7,  8,  9, 10],\n",
       "       [11, 12, 13, 14, 15],\n",
       "       [16, 17, 18, 19, 20],\n",
       "       [21, 22, 23, 24, 25]])"
      ]
     },
     "execution_count": 48,
     "metadata": {},
     "output_type": "execute_result"
    }
   ],
   "source": [
    "mat = np.arange(1, 26)\n",
    "mat = mat.reshape((5,5))\n",
    "mat"
   ]
  },
  {
   "cell_type": "code",
   "execution_count": 49,
   "id": "1af22b91",
   "metadata": {},
   "outputs": [
    {
     "data": {
      "image/png": "[encoded data removed]",
      "text/plain": [
       "<Figure size 712.5x712.5 with 2 Axes>"
      ]
     },
     "metadata": {},
     "output_type": "display_data"
    }
   ],
   "source": [
    "plt.figure(figsize = (7.5,7.5), dpi = 95)\n",
    "plt.imshow(cm, cmap = plt.cm.Greens)\n",
    "tick_marks = np.arange(NR_CLASSES)\n",
    "plt.yticks(tick_marks, LABEL_NAMES)\n",
    "plt.xticks(tick_marks, LABEL_NAMES)\n",
    "plt.ylabel('Actual Labels', fontsize = 12, color = 'blue')\n",
    "plt.xlabel('Predicted Labels', fontsize = 12, color = 'blue')\n",
    "plt.colorbar()\n",
    "for i , j in itertools.product(range(10), range(10)):\n",
    "    \n",
    "    plt.text(j,i, cm[i,j], horizontalalignment = 'center')\n",
    "plt.show()"
   ]
  },
  {
   "cell_type": "code",
   "execution_count": null,
   "id": "28de1f7a",
   "metadata": {},
   "outputs": [],
   "source": []
  }
 ],
 "metadata": {
  "kernelspec": {
   "display_name": "Python 3 (ipykernel)",
   "language": "python",
   "name": "python3"
  },
  "language_info": {
   "codemirror_mode": {
    "name": "ipython",
    "version": 3
   },
   "file_extension": ".py",
   "mimetype": "text/x-python",
   "name": "python",
   "nbconvert_exporter": "python",
   "pygments_lexer": "ipython3",
   "version": "3.9.13"
  }
 },
 "nbformat": 4,
 "nbformat_minor": 5
}
